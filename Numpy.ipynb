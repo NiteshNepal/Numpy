{
 "cells": [
  {
   "cell_type": "markdown",
   "id": "460df5ce",
   "metadata": {},
   "source": [
    "Numpy helps us to deal with the array and matrix."
   ]
  },
  {
   "cell_type": "code",
   "execution_count": 1,
   "id": "c5a8d574",
   "metadata": {},
   "outputs": [],
   "source": [
    "import numpy as np \n",
    "import pandas as pd"
   ]
  },
  {
   "cell_type": "code",
   "execution_count": 2,
   "id": "bfb4d8b2",
   "metadata": {},
   "outputs": [
    {
     "data": {
      "text/plain": [
       "array([1, 2, 3, 4, 5])"
      ]
     },
     "execution_count": 2,
     "metadata": {},
     "output_type": "execute_result"
    }
   ],
   "source": [
    "np.array([1,2,3,4,5])"
   ]
  },
  {
   "cell_type": "code",
   "execution_count": 3,
   "id": "80e3f457",
   "metadata": {},
   "outputs": [
    {
     "data": {
      "text/plain": [
       "numpy.ndarray"
      ]
     },
     "execution_count": 3,
     "metadata": {},
     "output_type": "execute_result"
    }
   ],
   "source": [
    "type(np.array([1,2,3,4,5]))"
   ]
  },
  {
   "cell_type": "code",
   "execution_count": 4,
   "id": "565e4dfa",
   "metadata": {},
   "outputs": [
    {
     "data": {
      "text/plain": [
       "array(['1', '2', '3', '4', '5', 'Nitesh', '4.5', '(6+1j)'], dtype='<U64')"
      ]
     },
     "execution_count": 4,
     "metadata": {},
     "output_type": "execute_result"
    }
   ],
   "source": [
    "#if we use different datatypes inside the same list then it will type conversion all the data into upper datatypes.\n",
    "np.array([1,2,3,4,5,\"Nitesh\",4.5,6+1j])   #It will convert all the data into string."
   ]
  },
  {
   "cell_type": "code",
   "execution_count": 5,
   "id": "d53e8c27",
   "metadata": {},
   "outputs": [
    {
     "data": {
      "text/plain": [
       "array([1. , 2. , 3. , 4. , 5. , 3.6, 4.5])"
      ]
     },
     "execution_count": 5,
     "metadata": {},
     "output_type": "execute_result"
    }
   ],
   "source": [
    "np.array([1,2,3,4,5,3.6,4.5]) #It will convert all the data into floating point."
   ]
  },
  {
   "cell_type": "code",
   "execution_count": 6,
   "id": "9aeb0ae8",
   "metadata": {},
   "outputs": [
    {
     "data": {
      "text/plain": [
       "array([1, 2, 3, 4, 5])"
      ]
     },
     "execution_count": 6,
     "metadata": {},
     "output_type": "execute_result"
    }
   ],
   "source": [
    "#1D array\n",
    "np.array([1,2,3,4,5])"
   ]
  },
  {
   "cell_type": "code",
   "execution_count": 7,
   "id": "ddaf9b66",
   "metadata": {},
   "outputs": [
    {
     "data": {
      "text/plain": [
       "array([[1, 2],\n",
       "       [3, 4]])"
      ]
     },
     "execution_count": 7,
     "metadata": {},
     "output_type": "execute_result"
    }
   ],
   "source": [
    "#2D array\n",
    "np.array([[1,2],[3,4]])"
   ]
  },
  {
   "cell_type": "code",
   "execution_count": 8,
   "id": "052658a7",
   "metadata": {},
   "outputs": [
    {
     "data": {
      "text/plain": [
       "array([[[1, 2],\n",
       "        [5, 6]],\n",
       "\n",
       "       [[3, 4],\n",
       "        [4, 5]]])"
      ]
     },
     "execution_count": 8,
     "metadata": {},
     "output_type": "execute_result"
    }
   ],
   "source": [
    "#3D array\n",
    "np.array([[[1,2],[5,6]],[[3,4],[4,5]]])"
   ]
  },
  {
   "cell_type": "code",
   "execution_count": 9,
   "id": "0437eda9",
   "metadata": {},
   "outputs": [
    {
     "data": {
      "text/plain": [
       "array([[[1, 2, 4]]])"
      ]
     },
     "execution_count": 9,
     "metadata": {},
     "output_type": "execute_result"
    }
   ],
   "source": [
    "np.array([1,2,4],ndmin=3)  #It will convert the data into 3d array"
   ]
  },
  {
   "cell_type": "code",
   "execution_count": 10,
   "id": "1b1e9ad3",
   "metadata": {},
   "outputs": [
    {
     "data": {
      "text/plain": [
       "array([1.+0.j, 2.+0.j, 3.+0.j])"
      ]
     },
     "execution_count": 10,
     "metadata": {},
     "output_type": "execute_result"
    }
   ],
   "source": [
    "np.array([1,2,3],dtype=complex)  #we can convert the datainto any datatype."
   ]
  },
  {
   "cell_type": "code",
   "execution_count": 11,
   "id": "b5f8f0d0",
   "metadata": {},
   "outputs": [
    {
     "data": {
      "text/plain": [
       "array(['1', '2', '3'], dtype='<U1')"
      ]
     },
     "execution_count": 11,
     "metadata": {},
     "output_type": "execute_result"
    }
   ],
   "source": [
    "np.array([1,2,3],dtype=str)"
   ]
  },
  {
   "cell_type": "code",
   "execution_count": 12,
   "id": "3b20ef1e",
   "metadata": {},
   "outputs": [
    {
     "data": {
      "text/plain": [
       "array([1., 2., 3.])"
      ]
     },
     "execution_count": 12,
     "metadata": {},
     "output_type": "execute_result"
    }
   ],
   "source": [
    "np.array([1,2,3],dtype=float)"
   ]
  },
  {
   "cell_type": "code",
   "execution_count": 13,
   "id": "c5fa4d78",
   "metadata": {},
   "outputs": [],
   "source": [
    "arr=np.array([(2,3)],dtype=[(\"a\",\"<i2\"),(\"b\",\"<i4\")])"
   ]
  },
  {
   "cell_type": "code",
   "execution_count": 14,
   "id": "b1275b58",
   "metadata": {},
   "outputs": [
    {
     "data": {
      "text/plain": [
       "array([(2, 3)], dtype=[('a', '<i2'), ('b', '<i4')])"
      ]
     },
     "execution_count": 14,
     "metadata": {},
     "output_type": "execute_result"
    }
   ],
   "source": [
    "arr"
   ]
  },
  {
   "cell_type": "code",
   "execution_count": 15,
   "id": "564977a6",
   "metadata": {},
   "outputs": [
    {
     "data": {
      "text/plain": [
       "2"
      ]
     },
     "execution_count": 15,
     "metadata": {},
     "output_type": "execute_result"
    }
   ],
   "source": [
    "arr[0][0]"
   ]
  },
  {
   "cell_type": "code",
   "execution_count": 16,
   "id": "c1d1c31b",
   "metadata": {},
   "outputs": [
    {
     "data": {
      "text/plain": [
       "numpy.int16"
      ]
     },
     "execution_count": 16,
     "metadata": {},
     "output_type": "execute_result"
    }
   ],
   "source": [
    "type(arr[0][0])"
   ]
  },
  {
   "cell_type": "code",
   "execution_count": 17,
   "id": "36dc1aa2",
   "metadata": {},
   "outputs": [
    {
     "data": {
      "text/plain": [
       "numpy.int32"
      ]
     },
     "execution_count": 17,
     "metadata": {},
     "output_type": "execute_result"
    }
   ],
   "source": [
    "type(arr[0][1])  #we have the option of \"<i2\",\"<i4\",\"<i8\" which denote 16,32,64 bit respectively."
   ]
  },
  {
   "cell_type": "code",
   "execution_count": 18,
   "id": "90bfb929",
   "metadata": {},
   "outputs": [],
   "source": [
    "l=[1,2,3,4,5,6,7,8,9,10]"
   ]
  },
  {
   "cell_type": "code",
   "execution_count": 19,
   "id": "38aa2845",
   "metadata": {},
   "outputs": [
    {
     "data": {
      "text/plain": [
       "array([ 1,  2,  3,  4,  5,  6,  7,  8,  9, 10])"
      ]
     },
     "execution_count": 19,
     "metadata": {},
     "output_type": "execute_result"
    }
   ],
   "source": [
    "np.array(l)"
   ]
  },
  {
   "cell_type": "code",
   "execution_count": 20,
   "id": "d74e0444",
   "metadata": {},
   "outputs": [
    {
     "data": {
      "text/plain": [
       "array([ 1,  2,  3,  4,  5,  6,  7,  8,  9, 10])"
      ]
     },
     "execution_count": 20,
     "metadata": {},
     "output_type": "execute_result"
    }
   ],
   "source": [
    "np.asarray(l)"
   ]
  },
  {
   "cell_type": "code",
   "execution_count": 21,
   "id": "c0fded9f",
   "metadata": {},
   "outputs": [
    {
     "data": {
      "text/plain": [
       "array([ 1,  2,  3,  4,  5,  6,  7,  8,  9, 10])"
      ]
     },
     "execution_count": 21,
     "metadata": {},
     "output_type": "execute_result"
    }
   ],
   "source": [
    "np.asanyarray(l)"
   ]
  },
  {
   "cell_type": "code",
   "execution_count": 22,
   "id": "c1a4fc24",
   "metadata": {
    "scrolled": true
   },
   "outputs": [
    {
     "data": {
      "text/plain": [
       "matrix([[(2, 3)]], dtype=[('a', '<i2'), ('b', '<i4')])"
      ]
     },
     "execution_count": 22,
     "metadata": {},
     "output_type": "execute_result"
    }
   ],
   "source": [
    "mat=np.matrix(arr)\n",
    "np.asanyarray(mat)"
   ]
  },
  {
   "cell_type": "code",
   "execution_count": 23,
   "id": "ed319190",
   "metadata": {},
   "outputs": [
    {
     "data": {
      "text/plain": [
       "True"
      ]
     },
     "execution_count": 23,
     "metadata": {},
     "output_type": "execute_result"
    }
   ],
   "source": [
    "issubclass(np.matrix,np.ndarray)   #we can see that matix is the sub class of ndarray."
   ]
  },
  {
   "cell_type": "code",
   "execution_count": 24,
   "id": "7496f336",
   "metadata": {},
   "outputs": [
    {
     "data": {
      "text/plain": [
       "False"
      ]
     },
     "execution_count": 24,
     "metadata": {},
     "output_type": "execute_result"
    }
   ],
   "source": [
    "issubclass(np.ndarray,np.matrix)   #we can see that ndarray isnot the sub class of matix."
   ]
  },
  {
   "cell_type": "code",
   "execution_count": 25,
   "id": "6d4d5382",
   "metadata": {},
   "outputs": [],
   "source": [
    "arr= [[3,4],[4,5]]"
   ]
  },
  {
   "cell_type": "code",
   "execution_count": 26,
   "id": "d26946b6",
   "metadata": {},
   "outputs": [],
   "source": [
    "a=arr  #sallow copy--point to the same memory location. "
   ]
  },
  {
   "cell_type": "code",
   "execution_count": 27,
   "id": "aad479b4",
   "metadata": {},
   "outputs": [],
   "source": [
    "b=np.copy(a) #deep copy--create b into new memory loaction."
   ]
  },
  {
   "cell_type": "code",
   "execution_count": 28,
   "id": "16e344fb",
   "metadata": {},
   "outputs": [],
   "source": [
    "arr[0][0]=1"
   ]
  },
  {
   "cell_type": "code",
   "execution_count": 29,
   "id": "a6758716",
   "metadata": {},
   "outputs": [
    {
     "data": {
      "text/plain": [
       "[[1, 4], [4, 5]]"
      ]
     },
     "execution_count": 29,
     "metadata": {},
     "output_type": "execute_result"
    }
   ],
   "source": [
    "arr"
   ]
  },
  {
   "cell_type": "code",
   "execution_count": 30,
   "id": "cfe15bb0",
   "metadata": {},
   "outputs": [
    {
     "data": {
      "text/plain": [
       "[[1, 4], [4, 5]]"
      ]
     },
     "execution_count": 30,
     "metadata": {},
     "output_type": "execute_result"
    }
   ],
   "source": [
    "#here we can see that a is referring to the same memory location as arr, so the change of the value of the arr also change the value of a. \n",
    "a  "
   ]
  },
  {
   "cell_type": "code",
   "execution_count": 31,
   "id": "ed4a9769",
   "metadata": {},
   "outputs": [
    {
     "data": {
      "text/plain": [
       "array([[3, 4],\n",
       "       [4, 5]])"
      ]
     },
     "execution_count": 31,
     "metadata": {},
     "output_type": "execute_result"
    }
   ],
   "source": [
    "#here we can see b is just copying the value of a and is in another memory location so change in arr doesnot chnage the value of b.\n",
    "b"
   ]
  },
  {
   "cell_type": "code",
   "execution_count": 32,
   "id": "95ba8adf",
   "metadata": {},
   "outputs": [
    {
     "data": {
      "text/plain": [
       "[[1, 4], [4, 5]]"
      ]
     },
     "execution_count": 32,
     "metadata": {},
     "output_type": "execute_result"
    }
   ],
   "source": [
    "arr[0:2]  #indexing is also present in arr."
   ]
  },
  {
   "cell_type": "code",
   "execution_count": 33,
   "id": "97273f55",
   "metadata": {},
   "outputs": [
    {
     "data": {
      "text/plain": [
       "array([[ True, False, False, False],\n",
       "       [False,  True, False, False],\n",
       "       [False, False,  True, False],\n",
       "       [False, False, False,  True]])"
      ]
     },
     "execution_count": 33,
     "metadata": {},
     "output_type": "execute_result"
    }
   ],
   "source": [
    "np.fromfunction(lambda i,j:i==j,(4,4))  #4*4 matrix created in which we can check if the rows and columns is same.\n"
   ]
  },
  {
   "cell_type": "code",
   "execution_count": 34,
   "id": "ac0c2216",
   "metadata": {},
   "outputs": [
    {
     "data": {
      "text/plain": [
       "array([[0., 0., 0., 0.],\n",
       "       [0., 1., 2., 3.],\n",
       "       [0., 2., 4., 6.],\n",
       "       [0., 3., 6., 9.]])"
      ]
     },
     "execution_count": 34,
     "metadata": {},
     "output_type": "execute_result"
    }
   ],
   "source": [
    "np.fromfunction(lambda i,j:i*j,(4,4))"
   ]
  },
  {
   "cell_type": "code",
   "execution_count": 35,
   "id": "bef65c98",
   "metadata": {},
   "outputs": [
    {
     "data": {
      "text/plain": [
       "array([[ 1.,  0.,  0.,  0.],\n",
       "       [ 1.,  1.,  1.,  1.],\n",
       "       [ 1.,  2.,  4.,  8.],\n",
       "       [ 1.,  3.,  9., 27.]])"
      ]
     },
     "execution_count": 35,
     "metadata": {},
     "output_type": "execute_result"
    }
   ],
   "source": [
    "np.fromfunction(lambda i,j:i**j,(4,4))"
   ]
  },
  {
   "cell_type": "code",
   "execution_count": 36,
   "id": "8dead695",
   "metadata": {},
   "outputs": [],
   "source": [
    "gen= (i*i for i in range(5))"
   ]
  },
  {
   "cell_type": "code",
   "execution_count": 37,
   "id": "c76f35f2",
   "metadata": {},
   "outputs": [
    {
     "data": {
      "text/plain": [
       "<generator object <genexpr> at 0x000001FF08DBE200>"
      ]
     },
     "execution_count": 37,
     "metadata": {},
     "output_type": "execute_result"
    }
   ],
   "source": [
    "gen"
   ]
  },
  {
   "cell_type": "code",
   "execution_count": 38,
   "id": "6c94f8b1",
   "metadata": {},
   "outputs": [],
   "source": [
    "def test(x):\n",
    "    yield(x)"
   ]
  },
  {
   "cell_type": "code",
   "execution_count": 39,
   "id": "f02369a5",
   "metadata": {},
   "outputs": [
    {
     "data": {
      "text/plain": [
       "<generator object test at 0x000001FF08DBE4A0>"
      ]
     },
     "execution_count": 39,
     "metadata": {},
     "output_type": "execute_result"
    }
   ],
   "source": [
    "test(5)"
   ]
  },
  {
   "cell_type": "code",
   "execution_count": 40,
   "id": "466bc4af",
   "metadata": {},
   "outputs": [
    {
     "data": {
      "text/plain": [
       "array([ 0,  1,  4,  9, 16])"
      ]
     },
     "execution_count": 40,
     "metadata": {},
     "output_type": "execute_result"
    }
   ],
   "source": [
    "np.fromiter(gen,dtype=int)"
   ]
  },
  {
   "cell_type": "code",
   "execution_count": 41,
   "id": "691e7324",
   "metadata": {},
   "outputs": [
    {
     "data": {
      "text/plain": [
       "array([0, 1, 2, 3, 4])"
      ]
     },
     "execution_count": 41,
     "metadata": {},
     "output_type": "execute_result"
    }
   ],
   "source": [
    "np.fromiter(range(5),dtype=int)"
   ]
  },
  {
   "cell_type": "code",
   "execution_count": 42,
   "id": "39a003ab",
   "metadata": {},
   "outputs": [
    {
     "data": {
      "text/plain": [
       "array([ 1,  2,  3,  4,  5,  6,  7,  8,  9, 10])"
      ]
     },
     "execution_count": 42,
     "metadata": {},
     "output_type": "execute_result"
    }
   ],
   "source": [
    "#converting string into ndarray.\n",
    "np.fromstring(\"1,2,3,4,5,6,7,8,9,10\",sep=\",\",dtype=int)"
   ]
  },
  {
   "cell_type": "code",
   "execution_count": 43,
   "id": "75f7010a",
   "metadata": {},
   "outputs": [],
   "source": [
    "arr=np.array([[1,2,3,4],[5,6,7,8],[4,5,6,7]])"
   ]
  },
  {
   "cell_type": "code",
   "execution_count": 44,
   "id": "c9931062",
   "metadata": {},
   "outputs": [
    {
     "data": {
      "text/plain": [
       "2"
      ]
     },
     "execution_count": 44,
     "metadata": {},
     "output_type": "execute_result"
    }
   ],
   "source": [
    "arr.ndim"
   ]
  },
  {
   "cell_type": "code",
   "execution_count": 45,
   "id": "93e8d27b",
   "metadata": {},
   "outputs": [
    {
     "data": {
      "text/plain": [
       "12"
      ]
     },
     "execution_count": 45,
     "metadata": {},
     "output_type": "execute_result"
    }
   ],
   "source": [
    "arr.size"
   ]
  },
  {
   "cell_type": "code",
   "execution_count": 46,
   "id": "469ce84b",
   "metadata": {},
   "outputs": [
    {
     "data": {
      "text/plain": [
       "(3, 4)"
      ]
     },
     "execution_count": 46,
     "metadata": {},
     "output_type": "execute_result"
    }
   ],
   "source": [
    "arr.shape"
   ]
  },
  {
   "cell_type": "code",
   "execution_count": 47,
   "id": "8d8a3f14",
   "metadata": {},
   "outputs": [],
   "source": [
    "arr1=np.array([[[1,2,3],[4,5,6]],[[1,2,3],[4,5,6]]])"
   ]
  },
  {
   "cell_type": "code",
   "execution_count": 48,
   "id": "3976afb5",
   "metadata": {},
   "outputs": [
    {
     "data": {
      "text/plain": [
       "3"
      ]
     },
     "execution_count": 48,
     "metadata": {},
     "output_type": "execute_result"
    }
   ],
   "source": [
    "arr1.ndim"
   ]
  },
  {
   "cell_type": "code",
   "execution_count": 49,
   "id": "542af00c",
   "metadata": {},
   "outputs": [
    {
     "data": {
      "text/plain": [
       "(2, 2, 3)"
      ]
     },
     "execution_count": 49,
     "metadata": {},
     "output_type": "execute_result"
    }
   ],
   "source": [
    "arr1.shape #that means we have 2 no. of 2*3 data. "
   ]
  },
  {
   "cell_type": "code",
   "execution_count": 50,
   "id": "f9f729a6",
   "metadata": {},
   "outputs": [
    {
     "data": {
      "text/plain": [
       "[0, 1, 2, 3, 4]"
      ]
     },
     "execution_count": 50,
     "metadata": {},
     "output_type": "execute_result"
    }
   ],
   "source": [
    "list(range(5))"
   ]
  },
  {
   "cell_type": "code",
   "execution_count": 51,
   "id": "bb4c4fdf",
   "metadata": {},
   "outputs": [
    {
     "ename": "TypeError",
     "evalue": "'float' object cannot be interpreted as an integer",
     "output_type": "error",
     "traceback": [
      "\u001b[1;31m---------------------------------------------------------------------------\u001b[0m",
      "\u001b[1;31mTypeError\u001b[0m                                 Traceback (most recent call last)",
      "Input \u001b[1;32mIn [51]\u001b[0m, in \u001b[0;36m<cell line: 1>\u001b[1;34m()\u001b[0m\n\u001b[1;32m----> 1\u001b[0m \u001b[38;5;28mlist\u001b[39m(\u001b[38;5;28;43mrange\u001b[39;49m\u001b[43m(\u001b[49m\u001b[38;5;241;43m6.6\u001b[39;49m\u001b[43m)\u001b[49m)\n",
      "\u001b[1;31mTypeError\u001b[0m: 'float' object cannot be interpreted as an integer"
     ]
    }
   ],
   "source": [
    "list(range(6.6))  #range function only takes integer value."
   ]
  },
  {
   "cell_type": "code",
   "execution_count": 52,
   "id": "67a7f6c7",
   "metadata": {},
   "outputs": [
    {
     "data": {
      "text/plain": [
       "array([0., 1., 2., 3., 4., 5., 6.])"
      ]
     },
     "execution_count": 52,
     "metadata": {},
     "output_type": "execute_result"
    }
   ],
   "source": [
    "np.arange(6.6)"
   ]
  },
  {
   "cell_type": "code",
   "execution_count": 53,
   "id": "31d755c9",
   "metadata": {},
   "outputs": [
    {
     "data": {
      "text/plain": [
       "array([0, 1, 2, 3, 4])"
      ]
     },
     "execution_count": 53,
     "metadata": {},
     "output_type": "execute_result"
    }
   ],
   "source": [
    "np.arange(5)"
   ]
  },
  {
   "cell_type": "code",
   "execution_count": 54,
   "id": "d8f5733f",
   "metadata": {},
   "outputs": [
    {
     "data": {
      "text/plain": [
       "array([5. , 5.5, 6. , 6.5, 7. , 7.5, 8. , 8.5])"
      ]
     },
     "execution_count": 54,
     "metadata": {},
     "output_type": "execute_result"
    }
   ],
   "source": [
    "np.arange(5,9,0.5)  #range form 5 to 9 with a jump of 0.5."
   ]
  },
  {
   "cell_type": "code",
   "execution_count": 55,
   "id": "08a095e9",
   "metadata": {},
   "outputs": [
    {
     "data": {
      "text/plain": [
       "array([], dtype=float64)"
      ]
     },
     "execution_count": 55,
     "metadata": {},
     "output_type": "execute_result"
    }
   ],
   "source": [
    "np.arange(9,2,0.4)"
   ]
  },
  {
   "cell_type": "code",
   "execution_count": 56,
   "id": "583308af",
   "metadata": {},
   "outputs": [
    {
     "data": {
      "text/plain": [
       "array([9. , 8.6, 8.2, 7.8, 7.4, 7. , 6.6, 6.2, 5.8, 5.4, 5. , 4.6, 4.2,\n",
       "       3.8, 3.4, 3. , 2.6, 2.2])"
      ]
     },
     "execution_count": 56,
     "metadata": {},
     "output_type": "execute_result"
    }
   ],
   "source": [
    "np.arange(9,2,-0.4)"
   ]
  },
  {
   "cell_type": "code",
   "execution_count": 57,
   "id": "202dbc08",
   "metadata": {},
   "outputs": [
    {
     "data": {
      "text/plain": [
       "array([1, 2, 3, 4, 5, 6, 7, 8])"
      ]
     },
     "execution_count": 57,
     "metadata": {},
     "output_type": "execute_result"
    }
   ],
   "source": [
    "np.arange(1,9)"
   ]
  },
  {
   "cell_type": "code",
   "execution_count": 58,
   "id": "fdd81f26",
   "metadata": {},
   "outputs": [
    {
     "data": {
      "text/plain": [
       "array([1.5, 2.5, 3.5, 4.5])"
      ]
     },
     "execution_count": 58,
     "metadata": {},
     "output_type": "execute_result"
    }
   ],
   "source": [
    "np.arange(1.5,5.5)"
   ]
  },
  {
   "cell_type": "code",
   "execution_count": 59,
   "id": "c07a5a88",
   "metadata": {},
   "outputs": [
    {
     "data": {
      "text/plain": [
       "array([1. , 1.6, 2.2, 2.8, 3.4, 4. , 4.6, 5.2])"
      ]
     },
     "execution_count": 59,
     "metadata": {},
     "output_type": "execute_result"
    }
   ],
   "source": [
    "np.arange(1,5.5,0.6)"
   ]
  },
  {
   "cell_type": "code",
   "execution_count": 60,
   "id": "e39dac04",
   "metadata": {},
   "outputs": [
    {
     "data": {
      "text/plain": [
       "array([2.        , 2.06122449, 2.12244898, 2.18367347, 2.24489796,\n",
       "       2.30612245, 2.36734694, 2.42857143, 2.48979592, 2.55102041,\n",
       "       2.6122449 , 2.67346939, 2.73469388, 2.79591837, 2.85714286,\n",
       "       2.91836735, 2.97959184, 3.04081633, 3.10204082, 3.16326531,\n",
       "       3.2244898 , 3.28571429, 3.34693878, 3.40816327, 3.46938776,\n",
       "       3.53061224, 3.59183673, 3.65306122, 3.71428571, 3.7755102 ,\n",
       "       3.83673469, 3.89795918, 3.95918367, 4.02040816, 4.08163265,\n",
       "       4.14285714, 4.20408163, 4.26530612, 4.32653061, 4.3877551 ,\n",
       "       4.44897959, 4.51020408, 4.57142857, 4.63265306, 4.69387755,\n",
       "       4.75510204, 4.81632653, 4.87755102, 4.93877551, 5.        ])"
      ]
     },
     "execution_count": 60,
     "metadata": {},
     "output_type": "execute_result"
    }
   ],
   "source": [
    "#it is generating a data in between two points into equal parts\n",
    "#by default it will give 50 datas.\n",
    "np.linspace(2,5)"
   ]
  },
  {
   "cell_type": "code",
   "execution_count": 61,
   "id": "65639e01",
   "metadata": {},
   "outputs": [
    {
     "data": {
      "text/plain": [
       "array([2. , 2.6, 3.2, 3.8, 4.4, 5. ])"
      ]
     },
     "execution_count": 61,
     "metadata": {},
     "output_type": "execute_result"
    }
   ],
   "source": [
    "#it is generating a data in between two points(2,5) into equal parts of 6 values.\n",
    "np.linspace(2,5,6)"
   ]
  },
  {
   "cell_type": "code",
   "execution_count": 62,
   "id": "baad95e6",
   "metadata": {},
   "outputs": [
    {
     "data": {
      "text/plain": [
       "array([0., 0., 0., 0., 0.])"
      ]
     },
     "execution_count": 62,
     "metadata": {},
     "output_type": "execute_result"
    }
   ],
   "source": [
    "np.zeros(5)"
   ]
  },
  {
   "cell_type": "code",
   "execution_count": 63,
   "id": "1f681663",
   "metadata": {},
   "outputs": [
    {
     "data": {
      "text/plain": [
       "array([[[0., 0., 0., 0.],\n",
       "        [0., 0., 0., 0.],\n",
       "        [0., 0., 0., 0.],\n",
       "        [0., 0., 0., 0.],\n",
       "        [0., 0., 0., 0.]],\n",
       "\n",
       "       [[0., 0., 0., 0.],\n",
       "        [0., 0., 0., 0.],\n",
       "        [0., 0., 0., 0.],\n",
       "        [0., 0., 0., 0.],\n",
       "        [0., 0., 0., 0.]]])"
      ]
     },
     "execution_count": 63,
     "metadata": {},
     "output_type": "execute_result"
    }
   ],
   "source": [
    "np.zeros((2,5,4))"
   ]
  },
  {
   "cell_type": "code",
   "execution_count": 64,
   "id": "85ade8a7",
   "metadata": {},
   "outputs": [
    {
     "data": {
      "text/plain": [
       "array([[[[0.],\n",
       "         [0.],\n",
       "         [0.],\n",
       "         [0.]],\n",
       "\n",
       "        [[0.],\n",
       "         [0.],\n",
       "         [0.],\n",
       "         [0.]],\n",
       "\n",
       "        [[0.],\n",
       "         [0.],\n",
       "         [0.],\n",
       "         [0.]],\n",
       "\n",
       "        [[0.],\n",
       "         [0.],\n",
       "         [0.],\n",
       "         [0.]],\n",
       "\n",
       "        [[0.],\n",
       "         [0.],\n",
       "         [0.],\n",
       "         [0.]]],\n",
       "\n",
       "\n",
       "       [[[0.],\n",
       "         [0.],\n",
       "         [0.],\n",
       "         [0.]],\n",
       "\n",
       "        [[0.],\n",
       "         [0.],\n",
       "         [0.],\n",
       "         [0.]],\n",
       "\n",
       "        [[0.],\n",
       "         [0.],\n",
       "         [0.],\n",
       "         [0.]],\n",
       "\n",
       "        [[0.],\n",
       "         [0.],\n",
       "         [0.],\n",
       "         [0.]],\n",
       "\n",
       "        [[0.],\n",
       "         [0.],\n",
       "         [0.],\n",
       "         [0.]]]])"
      ]
     },
     "execution_count": 64,
     "metadata": {},
     "output_type": "execute_result"
    }
   ],
   "source": [
    "np.zeros((2,5,4,1))"
   ]
  },
  {
   "cell_type": "code",
   "execution_count": 65,
   "id": "f92bae7e",
   "metadata": {},
   "outputs": [
    {
     "data": {
      "text/plain": [
       "array([1., 1., 1., 1.])"
      ]
     },
     "execution_count": 65,
     "metadata": {},
     "output_type": "execute_result"
    }
   ],
   "source": [
    "np.ones(4)"
   ]
  },
  {
   "cell_type": "code",
   "execution_count": 66,
   "id": "29f4b3ad",
   "metadata": {},
   "outputs": [
    {
     "data": {
      "text/plain": [
       "array([[1., 1., 1.],\n",
       "       [1., 1., 1.]])"
      ]
     },
     "execution_count": 66,
     "metadata": {},
     "output_type": "execute_result"
    }
   ],
   "source": [
    "np.ones((2,3))"
   ]
  },
  {
   "cell_type": "code",
   "execution_count": 67,
   "id": "fe49e54a",
   "metadata": {},
   "outputs": [
    {
     "data": {
      "text/plain": [
       "array([[[1.],\n",
       "        [1.],\n",
       "        [1.]],\n",
       "\n",
       "       [[1.],\n",
       "        [1.],\n",
       "        [1.]]])"
      ]
     },
     "execution_count": 67,
     "metadata": {},
     "output_type": "execute_result"
    }
   ],
   "source": [
    "np.ones((2,3,1))"
   ]
  },
  {
   "cell_type": "code",
   "execution_count": 68,
   "id": "0d0fba1f",
   "metadata": {},
   "outputs": [
    {
     "data": {
      "text/plain": [
       "array([[[6.],\n",
       "        [6.],\n",
       "        [6.]],\n",
       "\n",
       "       [[6.],\n",
       "        [6.],\n",
       "        [6.]]])"
      ]
     },
     "execution_count": 68,
     "metadata": {},
     "output_type": "execute_result"
    }
   ],
   "source": [
    "np.ones((2,3,1))+5"
   ]
  },
  {
   "cell_type": "code",
   "execution_count": 69,
   "id": "ec79f7f0",
   "metadata": {},
   "outputs": [
    {
     "data": {
      "text/plain": [
       "array([0., 0., 0., 0., 0.])"
      ]
     },
     "execution_count": 69,
     "metadata": {},
     "output_type": "execute_result"
    }
   ],
   "source": [
    "np.empty(5)"
   ]
  },
  {
   "cell_type": "code",
   "execution_count": 70,
   "id": "0e5a38f5",
   "metadata": {},
   "outputs": [
    {
     "data": {
      "text/plain": [
       "array([[6., 6., 6.],\n",
       "       [6., 6., 6.]])"
      ]
     },
     "execution_count": 70,
     "metadata": {},
     "output_type": "execute_result"
    }
   ],
   "source": [
    "np.empty((2,3))"
   ]
  },
  {
   "cell_type": "code",
   "execution_count": 71,
   "id": "f996175f",
   "metadata": {},
   "outputs": [
    {
     "data": {
      "text/plain": [
       "array([[1., 0., 0.],\n",
       "       [0., 1., 0.],\n",
       "       [0., 0., 1.]])"
      ]
     },
     "execution_count": 71,
     "metadata": {},
     "output_type": "execute_result"
    }
   ],
   "source": [
    "np.eye(3) #identity matrixes"
   ]
  },
  {
   "cell_type": "code",
   "execution_count": 72,
   "id": "a9fe27fc",
   "metadata": {},
   "outputs": [
    {
     "data": {
      "text/plain": [
       "array([2.        , 2.66666667, 3.33333333, 4.        ])"
      ]
     },
     "execution_count": 72,
     "metadata": {},
     "output_type": "execute_result"
    }
   ],
   "source": [
    "np.linspace(2,4,4)"
   ]
  },
  {
   "cell_type": "code",
   "execution_count": 73,
   "id": "7bba15f0",
   "metadata": {},
   "outputs": [
    {
     "data": {
      "text/plain": [
       "array([2. , 2.5, 3. , 3.5])"
      ]
     },
     "execution_count": 73,
     "metadata": {},
     "output_type": "execute_result"
    }
   ],
   "source": [
    "np.linspace(2,4,4,endpoint=False,axis=0)  #it will not include the last value which is 4."
   ]
  },
  {
   "cell_type": "code",
   "execution_count": 74,
   "id": "ef47dd59",
   "metadata": {},
   "outputs": [
    {
     "data": {
      "text/plain": [
       "array([[2.  , 2.02, 2.04, 2.06, 2.08, 2.1 , 2.12, 2.14, 2.16, 2.18, 2.2 ,\n",
       "        2.22, 2.24, 2.26, 2.28, 2.3 , 2.32, 2.34, 2.36, 2.38, 2.4 , 2.42,\n",
       "        2.44, 2.46, 2.48, 2.5 , 2.52, 2.54, 2.56, 2.58, 2.6 , 2.62, 2.64,\n",
       "        2.66, 2.68, 2.7 , 2.72, 2.74, 2.76, 2.78, 2.8 , 2.82, 2.84, 2.86,\n",
       "        2.88, 2.9 , 2.92, 2.94, 2.96, 2.98],\n",
       "       [1.  , 1.04, 1.08, 1.12, 1.16, 1.2 , 1.24, 1.28, 1.32, 1.36, 1.4 ,\n",
       "        1.44, 1.48, 1.52, 1.56, 1.6 , 1.64, 1.68, 1.72, 1.76, 1.8 , 1.84,\n",
       "        1.88, 1.92, 1.96, 2.  , 2.04, 2.08, 2.12, 2.16, 2.2 , 2.24, 2.28,\n",
       "        2.32, 2.36, 2.4 , 2.44, 2.48, 2.52, 2.56, 2.6 , 2.64, 2.68, 2.72,\n",
       "        2.76, 2.8 , 2.84, 2.88, 2.92, 2.96]])"
      ]
     },
     "execution_count": 74,
     "metadata": {},
     "output_type": "execute_result"
    }
   ],
   "source": [
    "np.linspace([2,1],3,endpoint=False,axis=1)"
   ]
  },
  {
   "cell_type": "code",
   "execution_count": 75,
   "id": "b1e44d24",
   "metadata": {},
   "outputs": [
    {
     "data": {
      "text/plain": [
       "array([   100.,   1000.,  10000., 100000.])"
      ]
     },
     "execution_count": 75,
     "metadata": {},
     "output_type": "execute_result"
    }
   ],
   "source": [
    "np.logspace(2,5,4) #find the log scale of data between 2 to 5."
   ]
  },
  {
   "cell_type": "code",
   "execution_count": 76,
   "id": "627b4cd4",
   "metadata": {},
   "outputs": [
    {
     "data": {
      "text/plain": [
       "array([[ 100.        ],\n",
       "       [ 104.81131342],\n",
       "       [ 109.8541142 ],\n",
       "       [ 115.13953993],\n",
       "       [ 120.67926406],\n",
       "       [ 126.48552169],\n",
       "       [ 132.57113656],\n",
       "       [ 138.94954944],\n",
       "       [ 145.63484775],\n",
       "       [ 152.64179672],\n",
       "       [ 159.98587196],\n",
       "       [ 167.68329368],\n",
       "       [ 175.75106249],\n",
       "       [ 184.20699693],\n",
       "       [ 193.06977289],\n",
       "       [ 202.35896477],\n",
       "       [ 212.09508879],\n",
       "       [ 222.29964825],\n",
       "       [ 232.99518105],\n",
       "       [ 244.20530945],\n",
       "       [ 255.95479227],\n",
       "       [ 268.26957953],\n",
       "       [ 281.1768698 ],\n",
       "       [ 294.70517026],\n",
       "       [ 308.88435965],\n",
       "       [ 323.74575428],\n",
       "       [ 339.32217719],\n",
       "       [ 355.64803062],\n",
       "       [ 372.75937203],\n",
       "       [ 390.69399371],\n",
       "       [ 409.49150624],\n",
       "       [ 429.19342601],\n",
       "       [ 449.8432669 ],\n",
       "       [ 471.48663635],\n",
       "       [ 494.17133613],\n",
       "       [ 517.94746792],\n",
       "       [ 542.86754393],\n",
       "       [ 568.9866029 ],\n",
       "       [ 596.36233166],\n",
       "       [ 625.05519253],\n",
       "       [ 655.12855686],\n",
       "       [ 686.648845  ],\n",
       "       [ 719.685673  ],\n",
       "       [ 754.31200634],\n",
       "       [ 790.60432109],\n",
       "       [ 828.64277285],\n",
       "       [ 868.51137375],\n",
       "       [ 910.29817799],\n",
       "       [ 954.09547635],\n",
       "       [1000.        ]])"
      ]
     },
     "execution_count": 76,
     "metadata": {},
     "output_type": "execute_result"
    }
   ],
   "source": [
    "np.logspace([2],[3],axis=0)  #represent in 2d data."
   ]
  },
  {
   "cell_type": "markdown",
   "id": "a4195323",
   "metadata": {},
   "source": [
    "### Important Part"
   ]
  },
  {
   "cell_type": "code",
   "execution_count": 77,
   "id": "541110e3",
   "metadata": {},
   "outputs": [],
   "source": [
    "d=np.linspace(2,8,50)"
   ]
  },
  {
   "cell_type": "code",
   "execution_count": 78,
   "id": "17860cd9",
   "metadata": {},
   "outputs": [
    {
     "data": {
      "text/plain": [
       "array([2.        , 2.12244898, 2.24489796, 2.36734694, 2.48979592,\n",
       "       2.6122449 , 2.73469388, 2.85714286, 2.97959184, 3.10204082,\n",
       "       3.2244898 , 3.34693878, 3.46938776, 3.59183673, 3.71428571,\n",
       "       3.83673469, 3.95918367, 4.08163265, 4.20408163, 4.32653061,\n",
       "       4.44897959, 4.57142857, 4.69387755, 4.81632653, 4.93877551,\n",
       "       5.06122449, 5.18367347, 5.30612245, 5.42857143, 5.55102041,\n",
       "       5.67346939, 5.79591837, 5.91836735, 6.04081633, 6.16326531,\n",
       "       6.28571429, 6.40816327, 6.53061224, 6.65306122, 6.7755102 ,\n",
       "       6.89795918, 7.02040816, 7.14285714, 7.26530612, 7.3877551 ,\n",
       "       7.51020408, 7.63265306, 7.75510204, 7.87755102, 8.        ])"
      ]
     },
     "execution_count": 78,
     "metadata": {},
     "output_type": "execute_result"
    }
   ],
   "source": [
    "d"
   ]
  },
  {
   "cell_type": "code",
   "execution_count": 79,
   "id": "567882c3",
   "metadata": {},
   "outputs": [
    {
     "data": {
      "text/plain": [
       "1"
      ]
     },
     "execution_count": 79,
     "metadata": {},
     "output_type": "execute_result"
    }
   ],
   "source": [
    "d.ndim"
   ]
  },
  {
   "cell_type": "code",
   "execution_count": 80,
   "id": "213a6f46",
   "metadata": {},
   "outputs": [
    {
     "data": {
      "text/plain": [
       "(50,)"
      ]
     },
     "execution_count": 80,
     "metadata": {},
     "output_type": "execute_result"
    }
   ],
   "source": [
    "d.shape\n"
   ]
  },
  {
   "cell_type": "code",
   "execution_count": 81,
   "id": "99ab79fa",
   "metadata": {},
   "outputs": [
    {
     "data": {
      "text/plain": [
       "array([[2.        ],\n",
       "       [2.12244898],\n",
       "       [2.24489796],\n",
       "       [2.36734694],\n",
       "       [2.48979592],\n",
       "       [2.6122449 ],\n",
       "       [2.73469388],\n",
       "       [2.85714286],\n",
       "       [2.97959184],\n",
       "       [3.10204082],\n",
       "       [3.2244898 ],\n",
       "       [3.34693878],\n",
       "       [3.46938776],\n",
       "       [3.59183673],\n",
       "       [3.71428571],\n",
       "       [3.83673469],\n",
       "       [3.95918367],\n",
       "       [4.08163265],\n",
       "       [4.20408163],\n",
       "       [4.32653061],\n",
       "       [4.44897959],\n",
       "       [4.57142857],\n",
       "       [4.69387755],\n",
       "       [4.81632653],\n",
       "       [4.93877551],\n",
       "       [5.06122449],\n",
       "       [5.18367347],\n",
       "       [5.30612245],\n",
       "       [5.42857143],\n",
       "       [5.55102041],\n",
       "       [5.67346939],\n",
       "       [5.79591837],\n",
       "       [5.91836735],\n",
       "       [6.04081633],\n",
       "       [6.16326531],\n",
       "       [6.28571429],\n",
       "       [6.40816327],\n",
       "       [6.53061224],\n",
       "       [6.65306122],\n",
       "       [6.7755102 ],\n",
       "       [6.89795918],\n",
       "       [7.02040816],\n",
       "       [7.14285714],\n",
       "       [7.26530612],\n",
       "       [7.3877551 ],\n",
       "       [7.51020408],\n",
       "       [7.63265306],\n",
       "       [7.75510204],\n",
       "       [7.87755102],\n",
       "       [8.        ]])"
      ]
     },
     "execution_count": 81,
     "metadata": {},
     "output_type": "execute_result"
    }
   ],
   "source": [
    "d.reshape(50,1)  #reshaping the above data in 2d."
   ]
  },
  {
   "cell_type": "code",
   "execution_count": 82,
   "id": "b50353c9",
   "metadata": {},
   "outputs": [
    {
     "data": {
      "text/plain": [
       "array([[[2.        , 2.12244898, 2.24489796, 2.36734694, 2.48979592,\n",
       "         2.6122449 , 2.73469388, 2.85714286, 2.97959184, 3.10204082,\n",
       "         3.2244898 , 3.34693878, 3.46938776, 3.59183673, 3.71428571,\n",
       "         3.83673469, 3.95918367, 4.08163265, 4.20408163, 4.32653061,\n",
       "         4.44897959, 4.57142857, 4.69387755, 4.81632653, 4.93877551],\n",
       "        [5.06122449, 5.18367347, 5.30612245, 5.42857143, 5.55102041,\n",
       "         5.67346939, 5.79591837, 5.91836735, 6.04081633, 6.16326531,\n",
       "         6.28571429, 6.40816327, 6.53061224, 6.65306122, 6.7755102 ,\n",
       "         6.89795918, 7.02040816, 7.14285714, 7.26530612, 7.3877551 ,\n",
       "         7.51020408, 7.63265306, 7.75510204, 7.87755102, 8.        ]]])"
      ]
     },
     "execution_count": 82,
     "metadata": {},
     "output_type": "execute_result"
    }
   ],
   "source": [
    "#reshape is very important in DL and Computer Vision when we ll be playing with Imaage data.\n",
    "d.reshape(1,2,25)  #3d "
   ]
  },
  {
   "cell_type": "code",
   "execution_count": 83,
   "id": "6bbcad40",
   "metadata": {},
   "outputs": [
    {
     "data": {
      "text/plain": [
       "array([[[[2.        , 2.12244898, 2.24489796, 2.36734694, 2.48979592,\n",
       "          2.6122449 , 2.73469388, 2.85714286, 2.97959184, 3.10204082,\n",
       "          3.2244898 , 3.34693878, 3.46938776, 3.59183673, 3.71428571,\n",
       "          3.83673469, 3.95918367, 4.08163265, 4.20408163, 4.32653061,\n",
       "          4.44897959, 4.57142857, 4.69387755, 4.81632653, 4.93877551],\n",
       "         [5.06122449, 5.18367347, 5.30612245, 5.42857143, 5.55102041,\n",
       "          5.67346939, 5.79591837, 5.91836735, 6.04081633, 6.16326531,\n",
       "          6.28571429, 6.40816327, 6.53061224, 6.65306122, 6.7755102 ,\n",
       "          6.89795918, 7.02040816, 7.14285714, 7.26530612, 7.3877551 ,\n",
       "          7.51020408, 7.63265306, 7.75510204, 7.87755102, 8.        ]]]])"
      ]
     },
     "execution_count": 83,
     "metadata": {},
     "output_type": "execute_result"
    }
   ],
   "source": [
    "d.reshape(1,1,2,25) #4d"
   ]
  },
  {
   "cell_type": "code",
   "execution_count": 84,
   "id": "fbb0c6b6",
   "metadata": {},
   "outputs": [
    {
     "data": {
      "text/plain": [
       "array([0.74393271, 0.2512476 , 0.72589846])"
      ]
     },
     "execution_count": 84,
     "metadata": {},
     "output_type": "execute_result"
    }
   ],
   "source": [
    "np.random.rand(3) \n",
    "#the random data generated by rand function ll be in Guassian/Uniform Distribution/Normal Distribution between 0 to 1."
   ]
  },
  {
   "cell_type": "code",
   "execution_count": 85,
   "id": "0fb5cd73",
   "metadata": {},
   "outputs": [
    {
     "data": {
      "text/plain": [
       "array([0.83902549, 0.43279147, 0.67337182, 0.36517848, 0.08183098,\n",
       "       0.83429772, 0.13675853, 0.48858252, 0.67458797, 0.12250656,\n",
       "       0.49966015, 0.30872569, 0.35556772, 0.52134796, 0.38525107,\n",
       "       0.0429886 , 0.91113092, 0.79196044, 0.71767494, 0.31745807,\n",
       "       0.81632114, 0.74074068, 0.57244702, 0.37149588, 0.98490202,\n",
       "       0.39894568, 0.76247172, 0.90316308, 0.74176942, 0.33660372,\n",
       "       0.09091297, 0.55841122, 0.94678072, 0.08971353, 0.11466322,\n",
       "       0.220246  , 0.14325137, 0.68931944, 0.81560861, 0.51773207,\n",
       "       0.18057548, 0.20880699, 0.04768604, 0.40914489, 0.21204501,\n",
       "       0.4020493 , 0.72115199, 0.46725216, 0.92911269, 0.12812466])"
      ]
     },
     "execution_count": 85,
     "metadata": {},
     "output_type": "execute_result"
    }
   ],
   "source": [
    "np.random.rand(50)"
   ]
  },
  {
   "cell_type": "code",
   "execution_count": 86,
   "id": "9c8af659",
   "metadata": {},
   "outputs": [
    {
     "data": {
      "text/plain": [
       "array([-2.34706461, -1.40325792, -0.09603371, -0.99217578, -2.17576842])"
      ]
     },
     "execution_count": 86,
     "metadata": {},
     "output_type": "execute_result"
    }
   ],
   "source": [
    "np.random.randn(5)\n",
    "#Return a sample (or samples) from the \"standard normal\" distribution."
   ]
  },
  {
   "cell_type": "code",
   "execution_count": 87,
   "id": "590f5b1a",
   "metadata": {},
   "outputs": [],
   "source": [
    "#standard Normal Distribution----> mean=0 and S.D=1\n",
    "#Normal Distrinution-----> mean and S.D can be anything."
   ]
  },
  {
   "cell_type": "code",
   "execution_count": 88,
   "id": "87448db7",
   "metadata": {},
   "outputs": [
    {
     "data": {
      "text/plain": [
       "array([[-1.67653678,  1.56835865,  1.26899172,  0.47940352,  0.20514825],\n",
       "       [ 0.29930462,  0.3485193 ,  0.64838607,  0.27275478, -2.03773101],\n",
       "       [-0.29412533,  0.03571055, -1.31145933, -1.99564859,  0.11630783],\n",
       "       [ 0.66832159, -0.34296266,  0.15090219, -0.42195451, -1.00473651]])"
      ]
     },
     "execution_count": 88,
     "metadata": {},
     "output_type": "execute_result"
    }
   ],
   "source": [
    "np.random.randn(4,5)"
   ]
  },
  {
   "cell_type": "code",
   "execution_count": 89,
   "id": "d2aec5a7",
   "metadata": {},
   "outputs": [
    {
     "data": {
      "text/plain": [
       "array([[[ 0.21498364,  0.09622535],\n",
       "        [-0.38104335,  0.17801866]],\n",
       "\n",
       "       [[ 1.68652891,  0.70562103],\n",
       "        [-1.48427214,  0.10453897]]])"
      ]
     },
     "execution_count": 89,
     "metadata": {},
     "output_type": "execute_result"
    }
   ],
   "source": [
    "np.random.randn(2,2,2)"
   ]
  },
  {
   "cell_type": "code",
   "execution_count": 90,
   "id": "8396cd27",
   "metadata": {},
   "outputs": [
    {
     "data": {
      "text/plain": [
       "16"
      ]
     },
     "execution_count": 90,
     "metadata": {},
     "output_type": "execute_result"
    }
   ],
   "source": [
    "np.random.randint(2,200) #return anyt random innteger value between 2 to 200,"
   ]
  },
  {
   "cell_type": "code",
   "execution_count": 91,
   "id": "b68f2ac1",
   "metadata": {},
   "outputs": [
    {
     "data": {
      "text/plain": [
       "array([[ 33,  49,  16,  53],\n",
       "       [175,  29,  29, 156],\n",
       "       [193, 134,  85, 104],\n",
       "       [ 90,   2,  29, 144]])"
      ]
     },
     "execution_count": 91,
     "metadata": {},
     "output_type": "execute_result"
    }
   ],
   "source": [
    "np.random.randint(2,200,(4,4)) #generate a matrix of 4*4 between 2 to 200."
   ]
  },
  {
   "cell_type": "code",
   "execution_count": 92,
   "id": "734b287c",
   "metadata": {},
   "outputs": [],
   "source": [
    "arr=np.random.randint(2,100,(4,4)) "
   ]
  },
  {
   "cell_type": "code",
   "execution_count": 93,
   "id": "dff61544",
   "metadata": {},
   "outputs": [
    {
     "data": {
      "text/plain": [
       "array([[0.64414354, 0.38074849, 0.66304791, 0.16365073, 0.96260781],\n",
       "       [0.34666184, 0.99175099, 0.2350579 , 0.58569427, 0.4066901 ]])"
      ]
     },
     "execution_count": 93,
     "metadata": {},
     "output_type": "execute_result"
    }
   ],
   "source": [
    "\"\"\"\n",
    "Each time when we execute our np.random.rand values get different every time.\n",
    "so we use seed method, to generate a random data but it will be constant every time.\n",
    "the random value is determined by a parameter inside the seed function.\n",
    "The random value will only chnage if the parameter of np.random.seed is changed otherwise it will stays the same\n",
    "\"\"\"\n",
    "np.random.seed(30)\n",
    "np.random.rand(2,5)"
   ]
  },
  {
   "cell_type": "code",
   "execution_count": 94,
   "id": "1cdefcbe",
   "metadata": {},
   "outputs": [
    {
     "data": {
      "text/plain": [
       "array([[39, 88, 15, 10],\n",
       "       [19, 14,  9, 47],\n",
       "       [20, 37, 78, 24],\n",
       "       [52, 72, 10, 23]])"
      ]
     },
     "execution_count": 94,
     "metadata": {},
     "output_type": "execute_result"
    }
   ],
   "source": [
    "arr"
   ]
  },
  {
   "cell_type": "code",
   "execution_count": 95,
   "id": "6259ffd9",
   "metadata": {},
   "outputs": [
    {
     "data": {
      "text/plain": [
       "array([[39, 88],\n",
       "       [15, 10],\n",
       "       [19, 14],\n",
       "       [ 9, 47],\n",
       "       [20, 37],\n",
       "       [78, 24],\n",
       "       [52, 72],\n",
       "       [10, 23]])"
      ]
     },
     "execution_count": 95,
     "metadata": {},
     "output_type": "execute_result"
    }
   ],
   "source": [
    "arr.reshape(8,2)"
   ]
  },
  {
   "cell_type": "code",
   "execution_count": 96,
   "id": "16af5086",
   "metadata": {},
   "outputs": [
    {
     "data": {
      "text/plain": [
       "array([[[39, 88],\n",
       "        [15, 10],\n",
       "        [19, 14],\n",
       "        [ 9, 47],\n",
       "        [20, 37],\n",
       "        [78, 24],\n",
       "        [52, 72],\n",
       "        [10, 23]]])"
      ]
     },
     "execution_count": 96,
     "metadata": {},
     "output_type": "execute_result"
    }
   ],
   "source": [
    "arr.reshape(1,8,2)"
   ]
  },
  {
   "cell_type": "code",
   "execution_count": 97,
   "id": "fd0317da",
   "metadata": {},
   "outputs": [
    {
     "data": {
      "text/plain": [
       "array([[39, 88, 15, 10, 19, 14,  9, 47, 20, 37, 78, 24, 52, 72, 10, 23]])"
      ]
     },
     "execution_count": 97,
     "metadata": {},
     "output_type": "execute_result"
    }
   ],
   "source": [
    "arr.reshape(1,16)"
   ]
  },
  {
   "cell_type": "code",
   "execution_count": 98,
   "id": "d5a3e751",
   "metadata": {},
   "outputs": [
    {
     "data": {
      "text/plain": [
       "array([[39, 88, 15, 10],\n",
       "       [19, 14,  9, 47],\n",
       "       [20, 37, 78, 24],\n",
       "       [52, 72, 10, 23]])"
      ]
     },
     "execution_count": 98,
     "metadata": {},
     "output_type": "execute_result"
    }
   ],
   "source": [
    "#if you give a parameter ie:4,8,16 etc. the reshape then it will automatically detect-\n",
    "#-the another parameter if we use any negative value(-1,-2,-23423525252,-23425456456 etc).\n",
    "arr.reshape(4,-12348728437284)"
   ]
  },
  {
   "cell_type": "code",
   "execution_count": 99,
   "id": "1d82d4a6",
   "metadata": {},
   "outputs": [
    {
     "data": {
      "text/plain": [
       "array([[39, 88, 15, 10],\n",
       "       [19, 14,  9, 47],\n",
       "       [20, 37, 78, 24],\n",
       "       [52, 72, 10, 23]])"
      ]
     },
     "execution_count": 99,
     "metadata": {},
     "output_type": "execute_result"
    }
   ],
   "source": [
    "#eg.we gave only 4 and didn't specify the 2nd paraameter and use it as -1, then it will auto. generate the data.\n",
    "arr.reshape(4,-1) "
   ]
  },
  {
   "cell_type": "code",
   "execution_count": 100,
   "id": "faa6c8cc",
   "metadata": {},
   "outputs": [
    {
     "data": {
      "text/plain": [
       "array([[39],\n",
       "       [88],\n",
       "       [15],\n",
       "       [10],\n",
       "       [19],\n",
       "       [14],\n",
       "       [ 9],\n",
       "       [47],\n",
       "       [20],\n",
       "       [37],\n",
       "       [78],\n",
       "       [24],\n",
       "       [52],\n",
       "       [72],\n",
       "       [10],\n",
       "       [23]])"
      ]
     },
     "execution_count": 100,
     "metadata": {},
     "output_type": "execute_result"
    }
   ],
   "source": [
    "arr.reshape(16,-1)"
   ]
  },
  {
   "cell_type": "code",
   "execution_count": 101,
   "id": "8d422f9a",
   "metadata": {},
   "outputs": [
    {
     "data": {
      "text/plain": [
       "array([[39, 88],\n",
       "       [15, 10],\n",
       "       [19, 14],\n",
       "       [ 9, 47],\n",
       "       [20, 37],\n",
       "       [78, 24],\n",
       "       [52, 72],\n",
       "       [10, 23]])"
      ]
     },
     "execution_count": 101,
     "metadata": {},
     "output_type": "execute_result"
    }
   ],
   "source": [
    "arr.reshape(8,-1)"
   ]
  },
  {
   "cell_type": "code",
   "execution_count": 102,
   "id": "7d0bfcfc",
   "metadata": {},
   "outputs": [
    {
     "data": {
      "text/plain": [
       "88"
      ]
     },
     "execution_count": 102,
     "metadata": {},
     "output_type": "execute_result"
    }
   ],
   "source": [
    "arr.max()"
   ]
  },
  {
   "cell_type": "code",
   "execution_count": 103,
   "id": "3a1fcefd",
   "metadata": {},
   "outputs": [
    {
     "data": {
      "text/plain": [
       "9"
      ]
     },
     "execution_count": 103,
     "metadata": {},
     "output_type": "execute_result"
    }
   ],
   "source": [
    "arr.min()"
   ]
  },
  {
   "cell_type": "code",
   "execution_count": 104,
   "id": "d9220c2d",
   "metadata": {},
   "outputs": [],
   "source": [
    "arr=np.random.randint(2,5,(5,5))"
   ]
  },
  {
   "cell_type": "code",
   "execution_count": 105,
   "id": "0e51610a",
   "metadata": {},
   "outputs": [
    {
     "data": {
      "text/plain": [
       "array([[4, 4, 2, 2, 4],\n",
       "       [2, 2, 4, 4, 4],\n",
       "       [3, 2, 4, 2, 3],\n",
       "       [4, 3, 2, 3, 4],\n",
       "       [4, 3, 2, 3, 2]])"
      ]
     },
     "execution_count": 105,
     "metadata": {},
     "output_type": "execute_result"
    }
   ],
   "source": [
    "arr"
   ]
  },
  {
   "cell_type": "code",
   "execution_count": 106,
   "id": "b37bcefe",
   "metadata": {},
   "outputs": [
    {
     "data": {
      "text/plain": [
       "array([[4, 2, 3],\n",
       "       [2, 3, 4],\n",
       "       [2, 3, 2]])"
      ]
     },
     "execution_count": 106,
     "metadata": {},
     "output_type": "execute_result"
    }
   ],
   "source": [
    "arr[2:,2:]  #slicing and extracting of data "
   ]
  },
  {
   "cell_type": "code",
   "execution_count": 107,
   "id": "9e8349b9",
   "metadata": {},
   "outputs": [
    {
     "data": {
      "text/plain": [
       "array([[2, 4, 4],\n",
       "       [2, 4, 2],\n",
       "       [3, 2, 3]])"
      ]
     },
     "execution_count": 107,
     "metadata": {},
     "output_type": "execute_result"
    }
   ],
   "source": [
    "arr[1:4,1:4]"
   ]
  },
  {
   "cell_type": "code",
   "execution_count": 108,
   "id": "770c0254",
   "metadata": {},
   "outputs": [
    {
     "data": {
      "text/plain": [
       "array([[4, 4],\n",
       "       [2, 4],\n",
       "       [2, 3],\n",
       "       [3, 4],\n",
       "       [3, 2]])"
      ]
     },
     "execution_count": 108,
     "metadata": {},
     "output_type": "execute_result"
    }
   ],
   "source": [
    "arr[:,[1,4]]"
   ]
  },
  {
   "cell_type": "code",
   "execution_count": 109,
   "id": "05ed2b55",
   "metadata": {},
   "outputs": [
    {
     "data": {
      "text/plain": [
       "array([[4, 4, 2],\n",
       "       [2, 2, 4],\n",
       "       [3, 2, 4],\n",
       "       [4, 3, 2],\n",
       "       [4, 3, 2]])"
      ]
     },
     "execution_count": 109,
     "metadata": {},
     "output_type": "execute_result"
    }
   ],
   "source": [
    "arr[:,[0,1,2]] #extracting all rows and only extraction 0th,1th,2nd column."
   ]
  },
  {
   "cell_type": "code",
   "execution_count": 110,
   "id": "681fbec9",
   "metadata": {},
   "outputs": [
    {
     "data": {
      "text/plain": [
       "array([[ True,  True, False, False,  True],\n",
       "       [False, False,  True,  True,  True],\n",
       "       [ True, False,  True, False,  True],\n",
       "       [ True,  True, False,  True,  True],\n",
       "       [ True,  True, False,  True, False]])"
      ]
     },
     "execution_count": 110,
     "metadata": {},
     "output_type": "execute_result"
    }
   ],
   "source": [
    "arr>2"
   ]
  },
  {
   "cell_type": "code",
   "execution_count": 111,
   "id": "5c0abd9c",
   "metadata": {},
   "outputs": [
    {
     "data": {
      "text/plain": [
       "array([4, 4, 4, 4, 4, 4, 3, 4, 3, 4, 3, 3, 4, 4, 3, 3])"
      ]
     },
     "execution_count": 111,
     "metadata": {},
     "output_type": "execute_result"
    }
   ],
   "source": [
    "arr[arr>2]"
   ]
  },
  {
   "cell_type": "code",
   "execution_count": 112,
   "id": "5ed6cdda",
   "metadata": {},
   "outputs": [
    {
     "data": {
      "text/plain": [
       "array([[4, 4, 2, 2, 4],\n",
       "       [2, 2, 4, 4, 4],\n",
       "       [3, 2, 4, 2, 3],\n",
       "       [4, 3, 2, 3, 4],\n",
       "       [4, 3, 2, 3, 2]])"
      ]
     },
     "execution_count": 112,
     "metadata": {},
     "output_type": "execute_result"
    }
   ],
   "source": [
    "arr"
   ]
  },
  {
   "cell_type": "code",
   "execution_count": 113,
   "id": "732ad71f",
   "metadata": {},
   "outputs": [
    {
     "data": {
      "text/plain": [
       "array([[16, 16,  4,  4, 16],\n",
       "       [ 4,  4, 16, 16, 16],\n",
       "       [ 9,  4, 16,  4,  9],\n",
       "       [16,  9,  4,  9, 16],\n",
       "       [16,  9,  4,  9,  4]])"
      ]
     },
     "execution_count": 113,
     "metadata": {},
     "output_type": "execute_result"
    }
   ],
   "source": [
    "arr*arr #index wise (element wise) multiplication\n",
    "#Its not a matrix multipllication."
   ]
  },
  {
   "cell_type": "code",
   "execution_count": 114,
   "id": "a0f5b3b7",
   "metadata": {},
   "outputs": [
    {
     "data": {
      "text/plain": [
       "array([[54, 46, 44, 46, 54],\n",
       "       [56, 44, 44, 44, 52],\n",
       "       [48, 39, 40, 37, 46],\n",
       "       [56, 47, 42, 45, 54],\n",
       "       [48, 41, 38, 39, 50]])"
      ]
     },
     "execution_count": 114,
     "metadata": {},
     "output_type": "execute_result"
    }
   ],
   "source": [
    "#This is a matrix multiplication.\n",
    "arr@arr"
   ]
  },
  {
   "cell_type": "code",
   "execution_count": 115,
   "id": "2a3a7d1d",
   "metadata": {},
   "outputs": [
    {
     "name": "stderr",
     "output_type": "stream",
     "text": [
      "C:\\Users\\asus\\AppData\\Local\\Temp\\ipykernel_1836\\4291252909.py:1: RuntimeWarning: divide by zero encountered in true_divide\n",
      "  arr/0\n"
     ]
    },
    {
     "data": {
      "text/plain": [
       "array([[inf, inf, inf, inf, inf],\n",
       "       [inf, inf, inf, inf, inf],\n",
       "       [inf, inf, inf, inf, inf],\n",
       "       [inf, inf, inf, inf, inf],\n",
       "       [inf, inf, inf, inf, inf]])"
      ]
     },
     "execution_count": 115,
     "metadata": {},
     "output_type": "execute_result"
    }
   ],
   "source": [
    "arr/0"
   ]
  },
  {
   "cell_type": "code",
   "execution_count": 116,
   "id": "32e3d339",
   "metadata": {},
   "outputs": [
    {
     "data": {
      "text/plain": [
       "array([[16, 16,  4,  4, 16],\n",
       "       [ 4,  4, 16, 16, 16],\n",
       "       [ 9,  4, 16,  4,  9],\n",
       "       [16,  9,  4,  9, 16],\n",
       "       [16,  9,  4,  9,  4]], dtype=int32)"
      ]
     },
     "execution_count": 116,
     "metadata": {},
     "output_type": "execute_result"
    }
   ],
   "source": [
    "arr**2"
   ]
  },
  {
   "cell_type": "markdown",
   "id": "56a7bbb5",
   "metadata": {},
   "source": [
    "####  Broadcasting"
   ]
  },
  {
   "cell_type": "code",
   "execution_count": 117,
   "id": "070db011",
   "metadata": {},
   "outputs": [],
   "source": [
    "arr1= np.zeros((3,4))"
   ]
  },
  {
   "cell_type": "code",
   "execution_count": 118,
   "id": "38f8cd10",
   "metadata": {},
   "outputs": [
    {
     "data": {
      "text/plain": [
       "array([[0., 0., 0., 0.],\n",
       "       [0., 0., 0., 0.],\n",
       "       [0., 0., 0., 0.]])"
      ]
     },
     "execution_count": 118,
     "metadata": {},
     "output_type": "execute_result"
    }
   ],
   "source": [
    "arr1"
   ]
  },
  {
   "cell_type": "code",
   "execution_count": 119,
   "id": "c26e796b",
   "metadata": {},
   "outputs": [],
   "source": [
    "arr2=np.array([1,2,3,4])"
   ]
  },
  {
   "cell_type": "code",
   "execution_count": 120,
   "id": "902f41ac",
   "metadata": {},
   "outputs": [
    {
     "data": {
      "text/plain": [
       "array([[1., 2., 3., 4.],\n",
       "       [1., 2., 3., 4.],\n",
       "       [1., 2., 3., 4.]])"
      ]
     },
     "execution_count": 120,
     "metadata": {},
     "output_type": "execute_result"
    }
   ],
   "source": [
    "arr1+arr2"
   ]
  },
  {
   "cell_type": "code",
   "execution_count": 121,
   "id": "22fefe51",
   "metadata": {},
   "outputs": [
    {
     "data": {
      "text/plain": [
       "array([[0., 0., 0.],\n",
       "       [0., 0., 0.],\n",
       "       [0., 0., 0.],\n",
       "       [0., 0., 0.]])"
      ]
     },
     "execution_count": 121,
     "metadata": {},
     "output_type": "execute_result"
    }
   ],
   "source": [
    "arr1=arr1.reshape(4,-1)\n",
    "arr1"
   ]
  },
  {
   "cell_type": "code",
   "execution_count": 122,
   "id": "17498524",
   "metadata": {},
   "outputs": [],
   "source": [
    "arr3=arr2.reshape(4,-1)"
   ]
  },
  {
   "cell_type": "code",
   "execution_count": 123,
   "id": "e52131ee",
   "metadata": {},
   "outputs": [
    {
     "data": {
      "text/plain": [
       "array([[1],\n",
       "       [2],\n",
       "       [3],\n",
       "       [4]])"
      ]
     },
     "execution_count": 123,
     "metadata": {},
     "output_type": "execute_result"
    }
   ],
   "source": [
    "arr3"
   ]
  },
  {
   "cell_type": "code",
   "execution_count": 124,
   "id": "cb50d407",
   "metadata": {},
   "outputs": [
    {
     "data": {
      "text/plain": [
       "array([[1., 1., 1.],\n",
       "       [2., 2., 2.],\n",
       "       [3., 3., 3.],\n",
       "       [4., 4., 4.]])"
      ]
     },
     "execution_count": 124,
     "metadata": {},
     "output_type": "execute_result"
    }
   ],
   "source": [
    "arr1+arr3"
   ]
  },
  {
   "cell_type": "code",
   "execution_count": 125,
   "id": "3406d80c",
   "metadata": {},
   "outputs": [],
   "source": [
    "arr1=np.zeros((3,4))"
   ]
  },
  {
   "cell_type": "code",
   "execution_count": 126,
   "id": "60ae8e69",
   "metadata": {},
   "outputs": [],
   "source": [
    "arr2=np.array([1,2,3])"
   ]
  },
  {
   "cell_type": "code",
   "execution_count": 127,
   "id": "6e3e8ddf",
   "metadata": {},
   "outputs": [],
   "source": [
    "arr3=arr2.reshape(3,-1)"
   ]
  },
  {
   "cell_type": "code",
   "execution_count": 128,
   "id": "c34db69b",
   "metadata": {},
   "outputs": [
    {
     "data": {
      "text/plain": [
       "array([[1],\n",
       "       [2],\n",
       "       [3]])"
      ]
     },
     "execution_count": 128,
     "metadata": {},
     "output_type": "execute_result"
    }
   ],
   "source": [
    "arr3"
   ]
  },
  {
   "cell_type": "code",
   "execution_count": 129,
   "id": "c6a18336",
   "metadata": {},
   "outputs": [],
   "source": [
    "arr=arr1+arr3"
   ]
  },
  {
   "cell_type": "code",
   "execution_count": 130,
   "id": "2d7a9a9e",
   "metadata": {},
   "outputs": [
    {
     "data": {
      "text/plain": [
       "array([[1., 1., 1., 1.],\n",
       "       [2., 2., 2., 2.],\n",
       "       [3., 3., 3., 3.]])"
      ]
     },
     "execution_count": 130,
     "metadata": {},
     "output_type": "execute_result"
    }
   ],
   "source": [
    "arr"
   ]
  },
  {
   "cell_type": "code",
   "execution_count": 131,
   "id": "5b0f6d14",
   "metadata": {},
   "outputs": [
    {
     "data": {
      "text/plain": [
       "array([[1., 2., 3.],\n",
       "       [1., 2., 3.],\n",
       "       [1., 2., 3.],\n",
       "       [1., 2., 3.]])"
      ]
     },
     "execution_count": 131,
     "metadata": {},
     "output_type": "execute_result"
    }
   ],
   "source": [
    "#Transpose \n",
    "arr.T "
   ]
  },
  {
   "cell_type": "code",
   "execution_count": 132,
   "id": "b1a8529c",
   "metadata": {},
   "outputs": [],
   "source": [
    "arr=np.random.randint(2,10,(4,4))"
   ]
  },
  {
   "cell_type": "code",
   "execution_count": 133,
   "id": "b2071d99",
   "metadata": {},
   "outputs": [
    {
     "data": {
      "text/plain": [
       "array([[7, 5, 3, 9],\n",
       "       [3, 3, 2, 9],\n",
       "       [9, 6, 8, 2],\n",
       "       [3, 8, 2, 9]])"
      ]
     },
     "execution_count": 133,
     "metadata": {},
     "output_type": "execute_result"
    }
   ],
   "source": [
    "arr"
   ]
  },
  {
   "cell_type": "code",
   "execution_count": 134,
   "id": "f19fc3c3",
   "metadata": {},
   "outputs": [
    {
     "data": {
      "text/plain": [
       "array([[2.64575131, 2.23606798, 1.73205081, 3.        ],\n",
       "       [1.73205081, 1.73205081, 1.41421356, 3.        ],\n",
       "       [3.        , 2.44948974, 2.82842712, 1.41421356],\n",
       "       [1.73205081, 2.82842712, 1.41421356, 3.        ]])"
      ]
     },
     "execution_count": 134,
     "metadata": {},
     "output_type": "execute_result"
    }
   ],
   "source": [
    "np.sqrt(arr)  #finding the square root od arr."
   ]
  },
  {
   "cell_type": "code",
   "execution_count": 135,
   "id": "1222ba32",
   "metadata": {},
   "outputs": [
    {
     "data": {
      "text/plain": [
       "array([[1.09663316e+03, 1.48413159e+02, 2.00855369e+01, 8.10308393e+03],\n",
       "       [2.00855369e+01, 2.00855369e+01, 7.38905610e+00, 8.10308393e+03],\n",
       "       [8.10308393e+03, 4.03428793e+02, 2.98095799e+03, 7.38905610e+00],\n",
       "       [2.00855369e+01, 2.98095799e+03, 7.38905610e+00, 8.10308393e+03]])"
      ]
     },
     "execution_count": 135,
     "metadata": {},
     "output_type": "execute_result"
    }
   ],
   "source": [
    "np.exp(arr)"
   ]
  },
  {
   "cell_type": "code",
   "execution_count": 136,
   "id": "684cdec7",
   "metadata": {},
   "outputs": [
    {
     "data": {
      "text/plain": [
       "array([[0.84509804, 0.69897   , 0.47712125, 0.95424251],\n",
       "       [0.47712125, 0.47712125, 0.30103   , 0.95424251],\n",
       "       [0.95424251, 0.77815125, 0.90308999, 0.30103   ],\n",
       "       [0.47712125, 0.90308999, 0.30103   , 0.95424251]])"
      ]
     },
     "execution_count": 136,
     "metadata": {},
     "output_type": "execute_result"
    }
   ],
   "source": [
    "np.log10(arr)"
   ]
  },
  {
   "cell_type": "code",
   "execution_count": null,
   "id": "fde6ba6f",
   "metadata": {},
   "outputs": [],
   "source": []
  }
 ],
 "metadata": {
  "kernelspec": {
   "display_name": "Python 3 (ipykernel)",
   "language": "python",
   "name": "python3"
  },
  "language_info": {
   "codemirror_mode": {
    "name": "ipython",
    "version": 3
   },
   "file_extension": ".py",
   "mimetype": "text/x-python",
   "name": "python",
   "nbconvert_exporter": "python",
   "pygments_lexer": "ipython3",
   "version": "3.9.12"
  }
 },
 "nbformat": 4,
 "nbformat_minor": 5
}
